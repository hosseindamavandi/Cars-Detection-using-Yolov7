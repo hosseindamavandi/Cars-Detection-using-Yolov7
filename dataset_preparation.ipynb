{
  "nbformat": 4,
  "nbformat_minor": 0,
  "metadata": {
    "colab": {
      "provenance": [],
      "authorship_tag": "ABX9TyPAzhl9R7Pv3U0jHWUxs8Aw"
    },
    "kernelspec": {
      "name": "python3",
      "display_name": "Python 3"
    },
    "language_info": {
      "name": "python"
    }
  },
  "cells": [
    {
      "cell_type": "code",
      "execution_count": 19,
      "metadata": {
        "id": "UElsgJqo6Vx7",
        "colab": {
          "base_uri": "https://localhost:8080/"
        },
        "outputId": "25163af3-24af-41ec-e73f-12ce804c0753"
      },
      "outputs": [
        {
          "output_type": "stream",
          "name": "stdout",
          "text": [
            "Drive already mounted at /content/drive; to attempt to forcibly remount, call drive.mount(\"/content/drive\", force_remount=True).\n"
          ]
        }
      ],
      "source": [
        "from google.colab import drive\n",
        "drive.mount('/content/drive')"
      ]
    },
    {
      "cell_type": "code",
      "source": [
        "%cd /content/drive/MyDrive/Car-Detection-using-Yolov7"
      ],
      "metadata": {
        "id": "4iQLVu3s6uCM",
        "colab": {
          "base_uri": "https://localhost:8080/"
        },
        "outputId": "bcce6648-8c39-4371-c402-001a32bc3811"
      },
      "execution_count": 20,
      "outputs": [
        {
          "output_type": "stream",
          "name": "stdout",
          "text": [
            "/content/drive/MyDrive/Car-Detection-using-Yolov7\n"
          ]
        }
      ]
    },
    {
      "cell_type": "code",
      "source": [
        "!ls"
      ],
      "metadata": {
        "colab": {
          "base_uri": "https://localhost:8080/"
        },
        "id": "OSUg_BO28DON",
        "outputId": "cbd778ee-e9df-4621-c51a-de6a138a7bc1"
      },
      "execution_count": 5,
      "outputs": [
        {
          "output_type": "stream",
          "name": "stdout",
          "text": [
            "IranianCarsDataset.zip\tUntitled0.ipynb  Untitled.ipynb  yolov7\n"
          ]
        }
      ]
    },
    {
      "cell_type": "code",
      "source": [
        "!unzip /content/drive/MyDrive/Car-Detection-using-Yolov7/dataset.zip -d /content/drive/MyDrive/Car-Detection-using-Yolov7/dataset"
      ],
      "metadata": {
        "id": "k0I0DGiE8nRv"
      },
      "execution_count": null,
      "outputs": []
    },
    {
      "cell_type": "code",
      "source": [
        "import os\n",
        "import shutil"
      ],
      "metadata": {
        "id": "JUzAICdd8ExX"
      },
      "execution_count": 22,
      "outputs": []
    },
    {
      "cell_type": "code",
      "source": [
        "src_root = '/content/drive/MyDrive/Car-Detection-using-Yolov7/dataset'\n",
        "dst_root = '/content/drive/MyDrive/Car-Detection-using-Yolov7/yolo_dataset'\n",
        "img_train_path = os.path.join(dst_root, 'images/train')\n",
        "img_valid_path = os.path.join(dst_root, 'images/valid')\n",
        "lbl_train_path = os.path.join(dst_root, 'labels/train')\n",
        "lbl_valid_path = os.path.join(dst_root, 'labels/valid')"
      ],
      "metadata": {
        "id": "BG5vDX9W8HTV"
      },
      "execution_count": 23,
      "outputs": []
    },
    {
      "cell_type": "code",
      "source": [
        "os.makedirs(img_train_path, exist_ok=True)\n",
        "os.makedirs(img_valid_path, exist_ok=True)\n",
        "os.makedirs(lbl_train_path, exist_ok=True)\n",
        "os.makedirs(lbl_valid_path, exist_ok=True)"
      ],
      "metadata": {
        "id": "yOOn8PMW8VoO"
      },
      "execution_count": 24,
      "outputs": []
    },
    {
      "cell_type": "code",
      "source": [
        "classes = [d for d in os.listdir(src_root) if os.path.isdir(os.path.join(src_root, d))]\n",
        "classes.sort()"
      ],
      "metadata": {
        "id": "xAI3ZNzA8X1G"
      },
      "execution_count": 25,
      "outputs": []
    },
    {
      "cell_type": "code",
      "source": [
        "train_ratio = 0.8"
      ],
      "metadata": {
        "id": "A1kmHCcI9CNp"
      },
      "execution_count": 26,
      "outputs": []
    },
    {
      "cell_type": "code",
      "source": [
        "for class_name in classes:\n",
        "    src_dir = os.path.join(src_root, class_name)\n",
        "    img_files = [f for f in os.listdir(src_dir) if f.endswith('.jpg')]\n",
        "\n",
        "    # Split the data\n",
        "    train_count = int(train_ratio * len(img_files))\n",
        "    train_files = img_files[:train_count]\n",
        "    valid_files = img_files[train_count:]\n",
        "\n",
        "    # Copy training images and labels\n",
        "    for f in train_files:\n",
        "        shutil.copy2(os.path.join(src_dir, f), os.path.join(img_train_path, f\"{class_name}_{f}\"))\n",
        "        shutil.copy2(os.path.join(src_dir, f.replace('.jpg', '.txt')), os.path.join(lbl_train_path, f\"{class_name}_{f.replace('.jpg', '.txt')}\"))\n",
        "\n",
        "    # Copy validation images and labels\n",
        "    for f in valid_files:\n",
        "        shutil.copy2(os.path.join(src_dir, f), os.path.join(img_valid_path, f\"{class_name}_{f}\"))\n",
        "        shutil.copy2(os.path.join(src_dir, f.replace('.jpg', '.txt')), os.path.join(lbl_valid_path, f\"{class_name}_{f.replace('.jpg', '.txt')}\"))\n"
      ],
      "metadata": {
        "id": "iF1KdkzC9UeY"
      },
      "execution_count": 27,
      "outputs": []
    },
    {
      "cell_type": "code",
      "source": [
        "# Generate train.txt and valid.txt\n",
        "with open(os.path.join(dst_root, 'train.txt'), 'w') as f:\n",
        "    for img in os.listdir(img_train_path):\n",
        "        f.write(f\"{img_train_path}/{img}\\n\")"
      ],
      "metadata": {
        "id": "PlH83jOf9XqJ"
      },
      "execution_count": 28,
      "outputs": []
    },
    {
      "cell_type": "code",
      "source": [
        "with open(os.path.join(dst_root, 'valid.txt'), 'w') as f:\n",
        "    for img in os.listdir(img_valid_path):\n",
        "        f.write(f\"{img_valid_path}/{img}\\n\")"
      ],
      "metadata": {
        "id": "MvMo84Ol9cg4"
      },
      "execution_count": 29,
      "outputs": []
    },
    {
      "cell_type": "code",
      "source": [
        "# Generate cars.names file\n",
        "with open(os.path.join(dst_root, 'cars.names'), 'w') as f:\n",
        "    for class_name in classes:\n",
        "        f.write(f\"{class_name}\\n\")"
      ],
      "metadata": {
        "id": "xUAc6OLJ9eIR"
      },
      "execution_count": 30,
      "outputs": []
    },
    {
      "cell_type": "code",
      "source": [
        "with open(os.path.join(dst_root, 'cars.data'), 'w') as f:\n",
        "    f.write(f\"classes={len(classes)}\\n\")\n",
        "    f.write(f\"train={os.path.join(dst_root, 'train.txt')}\\n\")\n",
        "    f.write(f\"valid={os.path.join(dst_root, 'valid.txt')}\\n\")\n",
        "    f.write(f\"names={os.path.join(dst_root, 'cars.names')}\\n\")\n",
        "    f.write(f\"backup=backup/\\n\")"
      ],
      "metadata": {
        "id": "kcefzjQ59mQB"
      },
      "execution_count": 31,
      "outputs": []
    },
    {
      "cell_type": "code",
      "source": [],
      "metadata": {
        "id": "_p8OLn109os-"
      },
      "execution_count": null,
      "outputs": []
    }
  ]
}